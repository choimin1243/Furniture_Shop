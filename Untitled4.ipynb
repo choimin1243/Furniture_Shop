{
  "nbformat": 4,
  "nbformat_minor": 0,
  "metadata": {
    "colab": {
      "name": "Untitled4.ipynb",
      "provenance": [],
      "authorship_tag": "ABX9TyOu6pQ8R4mXdvf9m3v57CeR",
      "include_colab_link": true
    },
    "kernelspec": {
      "name": "python3",
      "display_name": "Python 3"
    }
  },
  "cells": [
    {
      "cell_type": "markdown",
      "metadata": {
        "id": "view-in-github",
        "colab_type": "text"
      },
      "source": [
        "<a href=\"https://colab.research.google.com/github/choimin1243/Furniture_Shop/blob/master/Untitled4.ipynb\" target=\"_parent\"><img src=\"https://colab.research.google.com/assets/colab-badge.svg\" alt=\"Open In Colab\"/></a>"
      ]
    },
    {
      "cell_type": "code",
      "metadata": {
        "id": "DzinvnqKAh-Q",
        "colab_type": "code",
        "colab": {
          "base_uri": "https://localhost:8080/",
          "height": 34
        },
        "outputId": "271bc627-d077-4085-9dfc-d3e009015bce"
      },
      "source": [
        "from keras.preprocessing import sequence\n",
        "from keras.datasets import imdb\n",
        "from keras import layers,models"
      ],
      "execution_count": 1,
      "outputs": [
        {
          "output_type": "stream",
          "text": [
            "Using TensorFlow backend.\n"
          ],
          "name": "stderr"
        }
      ]
    },
    {
      "cell_type": "code",
      "metadata": {
        "id": "oPlfGM9xAzEu",
        "colab_type": "code",
        "colab": {}
      },
      "source": [
        "max_features=20000\n",
        "maxlen=80\n",
        "(x_train, y_train),(x_test, y_test)=imdb.load_data(num_words=max_features)\n",
        "x_train=sequence.pad_sequences(x_train,maxlen=maxlen)\n",
        "x_test=sequence.pad_sequences(x_test,maxlen=maxlen)"
      ],
      "execution_count": 0,
      "outputs": []
    },
    {
      "cell_type": "code",
      "metadata": {
        "id": "kY_tyH7dBqKH",
        "colab_type": "code",
        "colab": {}
      },
      "source": [
        "x=layers.Input((maxlen,))\n",
        "h=layers.Embedding(max_features,128)(x)\n",
        "h=layers.SimpleRNN(128)(h)\n",
        "y=layers.Dense(1,activation='sigmoid')(h)"
      ],
      "execution_count": 0,
      "outputs": []
    },
    {
      "cell_type": "code",
      "metadata": {
        "id": "F2KhfuNFC4QN",
        "colab_type": "code",
        "colab": {
          "base_uri": "https://localhost:8080/",
          "height": 195
        },
        "outputId": "0e4e0d2f-b9e3-432d-d735-d51fe7acc783"
      },
      "source": [
        "model=models.Model(x,y)\n",
        "model.compile(loss='binary_crossentropy',optimizer='adam',metrics=['accuracy'])\n",
        "batch_size=32\n",
        "epochs=3\n",
        "\n",
        "model.fit(x_train,y_train,batch_size=batch_size,epochs=epochs,\n",
        "          validation_data=(x_test, y_test))"
      ],
      "execution_count": 0,
      "outputs": [
        {
          "output_type": "stream",
          "text": [
            "/usr/local/lib/python3.6/dist-packages/tensorflow/python/framework/indexed_slices.py:434: UserWarning: Converting sparse IndexedSlices to a dense Tensor of unknown shape. This may consume a large amount of memory.\n",
            "  \"Converting sparse IndexedSlices to a dense Tensor of unknown shape. \"\n"
          ],
          "name": "stderr"
        },
        {
          "output_type": "stream",
          "text": [
            "Train on 25000 samples, validate on 25000 samples\n",
            "Epoch 1/3\n",
            "25000/25000 [==============================] - 56s 2ms/step - loss: 0.5969 - accuracy: 0.6601 - val_loss: 0.5274 - val_accuracy: 0.7478\n",
            "Epoch 2/3\n",
            "25000/25000 [==============================] - 55s 2ms/step - loss: 0.4133 - accuracy: 0.8180 - val_loss: 0.5129 - val_accuracy: 0.7485\n",
            "Epoch 3/3\n",
            "10336/25000 [===========>..................] - ETA: 28s - loss: 0.3366 - accuracy: 0.8652"
          ],
          "name": "stdout"
        }
      ]
    },
    {
      "cell_type": "code",
      "metadata": {
        "id": "BAaO9XShDhPE",
        "colab_type": "code",
        "colab": {}
      },
      "source": [
        "scroe,acc=model.evaluate(x_test,y_test,batch_size=batch_size=batch_size)\n",
        "print('Test:accuracy{0}, loss{1}'.format(acc,score))"
      ],
      "execution_count": 0,
      "outputs": []
    }
  ]
}
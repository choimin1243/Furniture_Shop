{
  "nbformat": 4,
  "nbformat_minor": 0,
  "metadata": {
    "colab": {
      "name": "Untitled3.ipynb",
      "provenance": [],
      "authorship_tag": "ABX9TyMuaZtENXgDfS4TiLo3n5Z/",
      "include_colab_link": true
    },
    "kernelspec": {
      "name": "python3",
      "display_name": "Python 3"
    }
  },
  "cells": [
    {
      "cell_type": "markdown",
      "metadata": {
        "id": "view-in-github",
        "colab_type": "text"
      },
      "source": [
        "<a href=\"https://colab.research.google.com/github/choimin1243/Furniture_Shop/blob/master/Untitled3.ipynb\" target=\"_parent\"><img src=\"https://colab.research.google.com/assets/colab-badge.svg\" alt=\"Open In Colab\"/></a>"
      ]
    },
    {
      "cell_type": "code",
      "metadata": {
        "id": "jxeZ32sEcp45",
        "colab_type": "code",
        "colab": {
          "base_uri": "https://localhost:8080/",
          "height": 143
        },
        "outputId": "fa6cf4da-1d21-44c7-dc20-1dc07f973a6b"
      },
      "source": [
        "from keras.datasets import cifar10\n",
        "import keras\n",
        "(X_train, y_train), (X_test,y_test)=cifar10.load_data()\n",
        "\n",
        "print(y_train)"
      ],
      "execution_count": 20,
      "outputs": [
        {
          "output_type": "stream",
          "text": [
            "[[6]\n",
            " [9]\n",
            " [9]\n",
            " ...\n",
            " [9]\n",
            " [1]\n",
            " [1]]\n"
          ],
          "name": "stdout"
        }
      ]
    },
    {
      "cell_type": "code",
      "metadata": {
        "id": "IAxlITdAdDor",
        "colab_type": "code",
        "colab": {
          "base_uri": "https://localhost:8080/",
          "height": 35
        },
        "outputId": "6c6c2c49-0b2f-4eaf-e5bb-50b59f8478fa"
      },
      "source": [
        "X_train=X_train.astype('float32')\n",
        "X_test=X_test.astype('float32')\n",
        "X_train=X_train/255.0\n",
        "X_test=X_train/255.0\n",
        "\n",
        "\n",
        "print('---------------')\n",
        "\n",
        "from keras.utils import np_utils\n",
        "\n",
        "y_train=np_utils.to_categorical(y_train)\n",
        "y_test=np_utils.to_categorical(y_test)\n",
        "\n"
      ],
      "execution_count": 29,
      "outputs": [
        {
          "output_type": "stream",
          "text": [
            "---------------\n"
          ],
          "name": "stdout"
        }
      ]
    },
    {
      "cell_type": "code",
      "metadata": {
        "id": "hIiHGk_pjerH",
        "colab_type": "code",
        "colab": {
          "base_uri": "https://localhost:8080/",
          "height": 575
        },
        "outputId": "280b97ce-36fd-4a94-a421-56acac03c021"
      },
      "source": [
        "from keras.layers import Input \n",
        "input_img=Input(shape=(32,32,3))\n",
        "\n",
        "from keras.layers import Conv2D,MaxPooling2D\n",
        "\n",
        "tower_1=Conv2D(64,(1,1),padding='same',activation='relu')(input_img)\n",
        "tower_1=Conv2D(64,(1,1),padding='same',activation='relu')(tower_1)\n",
        "tower_2=Conv2D(64,(1,1),padding='same',activation='relu')(input_img)\n",
        "tower_2=Conv2D(64,(5,5),padding='same',activation='relu')(tower_2)\n",
        "tower_3=MaxPooling2D((3,3),strides=(1,1),padding='same')(input_img)\n",
        "tower_3=Conv2D(64,(1,1),padding='same',activation='relu')(tower_3)\n",
        "\n",
        "output=keras.layers.concatenate([tower_1,tower_2,tower_3],axis=3)\n",
        "\n",
        "from keras.layers import Flatten,Dense\n",
        "\n",
        "output=Flatten()(output)\n",
        "\n",
        "out=Dense(10,activation='softmax')(output)\n",
        "\n",
        "from keras.models import Model\n",
        "\n",
        "model=Model(inputs= input_img, outputs=out)\n",
        "print(model.summary())\n"
      ],
      "execution_count": 40,
      "outputs": [
        {
          "output_type": "stream",
          "text": [
            "Model: \"model_1\"\n",
            "__________________________________________________________________________________________________\n",
            "Layer (type)                    Output Shape         Param #     Connected to                     \n",
            "==================================================================================================\n",
            "input_16 (InputLayer)           (None, 32, 32, 3)    0                                            \n",
            "__________________________________________________________________________________________________\n",
            "conv2d_21 (Conv2D)              (None, 32, 32, 64)   256         input_16[0][0]                   \n",
            "__________________________________________________________________________________________________\n",
            "conv2d_23 (Conv2D)              (None, 32, 32, 64)   256         input_16[0][0]                   \n",
            "__________________________________________________________________________________________________\n",
            "max_pooling2d_4 (MaxPooling2D)  (None, 32, 32, 3)    0           input_16[0][0]                   \n",
            "__________________________________________________________________________________________________\n",
            "conv2d_22 (Conv2D)              (None, 32, 32, 64)   4160        conv2d_21[0][0]                  \n",
            "__________________________________________________________________________________________________\n",
            "conv2d_24 (Conv2D)              (None, 32, 32, 64)   102464      conv2d_23[0][0]                  \n",
            "__________________________________________________________________________________________________\n",
            "conv2d_25 (Conv2D)              (None, 32, 32, 64)   256         max_pooling2d_4[0][0]            \n",
            "__________________________________________________________________________________________________\n",
            "concatenate_3 (Concatenate)     (None, 32, 32, 192)  0           conv2d_22[0][0]                  \n",
            "                                                                 conv2d_24[0][0]                  \n",
            "                                                                 conv2d_25[0][0]                  \n",
            "__________________________________________________________________________________________________\n",
            "flatten_2 (Flatten)             (None, 196608)       0           concatenate_3[0][0]              \n",
            "__________________________________________________________________________________________________\n",
            "dense_2 (Dense)                 (None, 10)           1966090     flatten_2[0][0]                  \n",
            "==================================================================================================\n",
            "Total params: 2,073,482\n",
            "Trainable params: 2,073,482\n",
            "Non-trainable params: 0\n",
            "__________________________________________________________________________________________________\n",
            "None\n"
          ],
          "name": "stdout"
        }
      ]
    }
  ]
}
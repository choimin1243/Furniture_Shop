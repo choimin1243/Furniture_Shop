{
  "nbformat": 4,
  "nbformat_minor": 0,
  "metadata": {
    "colab": {
      "name": "Untitled8.ipynb",
      "provenance": [],
      "authorship_tag": "ABX9TyNok3Li+eecbjso/YIR0Y6A",
      "include_colab_link": true
    },
    "kernelspec": {
      "name": "python3",
      "display_name": "Python 3"
    }
  },
  "cells": [
    {
      "cell_type": "markdown",
      "metadata": {
        "id": "view-in-github",
        "colab_type": "text"
      },
      "source": [
        "<a href=\"https://colab.research.google.com/github/choimin1243/Furniture_Shop/blob/master/Untitled8.ipynb\" target=\"_parent\"><img src=\"https://colab.research.google.com/assets/colab-badge.svg\" alt=\"Open In Colab\"/></a>"
      ]
    },
    {
      "cell_type": "code",
      "metadata": {
        "id": "WFlKtBMU867f",
        "colab_type": "code",
        "colab": {
          "base_uri": "https://localhost:8080/",
          "height": 52
        },
        "outputId": "68431a36-838e-40b6-b23a-1adb1be4b54f"
      },
      "source": [
        "import tensorflow.compat.v1 as tf\n",
        "tf.disable_v2_behavior()\n",
        "\n",
        "a=tf.Variable(1)\n",
        "b=tf.Variable(2)\n",
        "d=tf.Variable(4)\n",
        "\n",
        "c=tf.add(a,b)\n",
        "\n",
        "with tf.Session() as sess:\n",
        "    sess.run(tf.global_variables_initializer())\n",
        "    print(sess.run(b))\n",
        "    assign=tf.assign(b,d)\n",
        "\n",
        "    print(sess.run(assign))"
      ],
      "execution_count": 8,
      "outputs": [
        {
          "output_type": "stream",
          "text": [
            "2\n",
            "4\n"
          ],
          "name": "stdout"
        }
      ]
    },
    {
      "cell_type": "code",
      "metadata": {
        "id": "SHj3dUSw_uBc",
        "colab_type": "code",
        "colab": {
          "base_uri": "https://localhost:8080/",
          "height": 265
        },
        "outputId": "c9c7f140-e477-4f39-dbaa-9b4a2f55d4ee"
      },
      "source": [
        "import numpy as np\n",
        "data=np.random.normal(loc=10,scale=1,size=10000)\n",
        "import matplotlib.pyplot as plt\n",
        "plt.hist(data, bins=100)\n",
        "plt.show()"
      ],
      "execution_count": 10,
      "outputs": [
        {
          "output_type": "display_data",
          "data": {
            "image/png": "[encoded data removed]",
            "text/plain": [
              "<Figure size 432x288 with 1 Axes>"
            ]
          },
          "metadata": {
            "tags": [],
            "needs_background": "light"
          }
        }
      ]
    },
    {
      "cell_type": "code",
      "metadata": {
        "id": "0VMMkNNyAD_x",
        "colab_type": "code",
        "colab": {
          "base_uri": "https://localhost:8080/",
          "height": 52
        },
        "outputId": "5bd91451-b39d-4454-82af-ec6c9afa6f85"
      },
      "source": [
        "w=tf.Variable(np.random.normal(size=[2,2]))\n",
        "with tf.Session() as sess:\n",
        "  sess.run(tf.global_variables_initializer())\n",
        "  print(sess.run(w))"
      ],
      "execution_count": 13,
      "outputs": [
        {
          "output_type": "stream",
          "text": [
            "[[-0.74790493  0.05208046]\n",
            " [-0.81713085 -0.50852327]]\n"
          ],
          "name": "stdout"
        }
      ]
    },
    {
      "cell_type": "code",
      "metadata": {
        "id": "niQgyozaAprT",
        "colab_type": "code",
        "colab": {}
      },
      "source": [
        ""
      ],
      "execution_count": 0,
      "outputs": []
    },
    {
      "cell_type": "code",
      "metadata": {
        "id": "COsxegrfAp-J",
        "colab_type": "code",
        "colab": {}
      },
      "source": [
        "a=tf.constant(15,name='variable_a')\n",
        "b=tf.placeholder(tf.int32,[1],name='variable_b')\n",
        "gop=tf.multiply(a,b,name='gop')\n",
        "hap=tf.add(a,b,name='hap')\n",
        "dap=tf.divide(gop,hap,name='dap')\n",
        "\n"
      ],
      "execution_count": 0,
      "outputs": []
    },
    {
      "cell_type": "code",
      "metadata": {
        "id": "n8k7KuZgDPTq",
        "colab_type": "code",
        "colab": {
          "base_uri": "https://localhost:8080/",
          "height": 193
        },
        "outputId": "df41ffa1-b23d-4f98-8c0b-3e29abfe54fb"
      },
      "source": [
        "with tf.Session() as sess:\n",
        "  for i in range(10):\n",
        "    print(f\"{1}>> {sess.run(dap, feed_dict={b:[i]})}\")"
      ],
      "execution_count": 16,
      "outputs": [
        {
          "output_type": "stream",
          "text": [
            "1>> [0.]\n",
            "1>> [0.9375]\n",
            "1>> [1.76470588]\n",
            "1>> [2.5]\n",
            "1>> [3.15789474]\n",
            "1>> [3.75]\n",
            "1>> [4.28571429]\n",
            "1>> [4.77272727]\n",
            "1>> [5.2173913]\n",
            "1>> [5.625]\n"
          ],
          "name": "stdout"
        }
      ]
    }
  ]
}
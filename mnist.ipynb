{
  "nbformat": 4,
  "nbformat_minor": 0,
  "metadata": {
    "colab": {
      "name": "Untitled21.ipynb",
      "provenance": [],
      "authorship_tag": "ABX9TyMSJneOA1L83WfPUboqwGcT",
      "include_colab_link": true
    },
    "kernelspec": {
      "name": "python3",
      "display_name": "Python 3"
    },
    "widgets": {
      "application/vnd.jupyter.widget-state+json": {
        "535ee00814aa47d183e945a47dfe8fe4": {
          "model_module": "@jupyter-widgets/controls",
          "model_name": "VBoxModel",
          "state": {
            "_view_name": "VBoxView",
            "_dom_classes": [
              "widget-interact"
            ],
            "_model_name": "VBoxModel",
            "_view_module": "@jupyter-widgets/controls",
            "_model_module_version": "1.5.0",
            "_view_count": null,
            "_view_module_version": "1.5.0",
            "box_style": "",
            "layout": "IPY_MODEL_74fa35c6032f44af9fa7375b7394c545",
            "_model_module": "@jupyter-widgets/controls",
            "children": [
              "IPY_MODEL_a9ec37fc94a548379f28553103e9f580",
              "IPY_MODEL_07ea7451da83417fbd7f90d25d48bada"
            ]
          }
        },
        "74fa35c6032f44af9fa7375b7394c545": {
          "model_module": "@jupyter-widgets/base",
          "model_name": "LayoutModel",
          "state": {
            "_view_name": "LayoutView",
            "grid_template_rows": null,
            "right": null,
            "justify_content": null,
            "_view_module": "@jupyter-widgets/base",
            "overflow": null,
            "_model_module_version": "1.2.0",
            "_view_count": null,
            "flex_flow": null,
            "width": null,
            "min_width": null,
            "border": null,
            "align_items": null,
            "bottom": null,
            "_model_module": "@jupyter-widgets/base",
            "top": null,
            "grid_column": null,
            "overflow_y": null,
            "overflow_x": null,
            "grid_auto_flow": null,
            "grid_area": null,
            "grid_template_columns": null,
            "flex": null,
            "_model_name": "LayoutModel",
            "justify_items": null,
            "grid_row": null,
            "max_height": null,
            "align_content": null,
            "visibility": null,
            "align_self": null,
            "height": null,
            "min_height": null,
            "padding": null,
            "grid_auto_rows": null,
            "grid_gap": null,
            "max_width": null,
            "order": null,
            "_view_module_version": "1.2.0",
            "grid_template_areas": null,
            "object_position": null,
            "object_fit": null,
            "grid_auto_columns": null,
            "margin": null,
            "display": null,
            "left": null
          }
        },
        "a9ec37fc94a548379f28553103e9f580": {
          "model_module": "@jupyter-widgets/controls",
          "model_name": "IntSliderModel",
          "state": {
            "_view_name": "IntSliderView",
            "style": "IPY_MODEL_c50ea8ddb11b4bffb0a118e75c71bf4d",
            "_dom_classes": [],
            "description": "idx",
            "step": 1,
            "_model_name": "IntSliderModel",
            "orientation": "horizontal",
            "max": 60000,
            "_view_module": "@jupyter-widgets/controls",
            "_model_module_version": "1.5.0",
            "value": 44516,
            "_view_count": null,
            "disabled": false,
            "_view_module_version": "1.5.0",
            "min": 0,
            "continuous_update": true,
            "readout_format": "d",
            "description_tooltip": null,
            "readout": true,
            "_model_module": "@jupyter-widgets/controls",
            "layout": "IPY_MODEL_5600265251ec4006b0d6ea43aed7a9b6"
          }
        },
        "07ea7451da83417fbd7f90d25d48bada": {
          "model_module": "@jupyter-widgets/output",
          "model_name": "OutputModel",
          "state": {
            "_view_name": "OutputView",
            "msg_id": "",
            "_dom_classes": [],
            "_model_name": "OutputModel",
            "outputs": [
              {
                "output_type": "display_data",
                "metadata": {
                  "tags": [],
                  "needs_background": "light"
                },
                "image/png": "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\n",
                "text/plain": "<Figure size 432x288 with 1 Axes>"
              }
            ],
            "_view_module": "@jupyter-widgets/output",
            "_model_module_version": "1.0.0",
            "_view_count": null,
            "_view_module_version": "1.0.0",
            "layout": "IPY_MODEL_db8ce4a0babd47d7b4454bd8de1f223a",
            "_model_module": "@jupyter-widgets/output"
          }
        },
        "c50ea8ddb11b4bffb0a118e75c71bf4d": {
          "model_module": "@jupyter-widgets/controls",
          "model_name": "SliderStyleModel",
          "state": {
            "_view_name": "StyleView",
            "handle_color": null,
            "_model_name": "SliderStyleModel",
            "description_width": "",
            "_view_module": "@jupyter-widgets/base",
            "_model_module_version": "1.5.0",
            "_view_count": null,
            "_view_module_version": "1.2.0",
            "_model_module": "@jupyter-widgets/controls"
          }
        },
        "5600265251ec4006b0d6ea43aed7a9b6": {
          "model_module": "@jupyter-widgets/base",
          "model_name": "LayoutModel",
          "state": {
            "_view_name": "LayoutView",
            "grid_template_rows": null,
            "right": null,
            "justify_content": null,
            "_view_module": "@jupyter-widgets/base",
            "overflow": null,
            "_model_module_version": "1.2.0",
            "_view_count": null,
            "flex_flow": null,
            "width": null,
            "min_width": null,
            "border": null,
            "align_items": null,
            "bottom": null,
            "_model_module": "@jupyter-widgets/base",
            "top": null,
            "grid_column": null,
            "overflow_y": null,
            "overflow_x": null,
            "grid_auto_flow": null,
            "grid_area": null,
            "grid_template_columns": null,
            "flex": null,
            "_model_name": "LayoutModel",
            "justify_items": null,
            "grid_row": null,
            "max_height": null,
            "align_content": null,
            "visibility": null,
            "align_self": null,
            "height": null,
            "min_height": null,
            "padding": null,
            "grid_auto_rows": null,
            "grid_gap": null,
            "max_width": null,
            "order": null,
            "_view_module_version": "1.2.0",
            "grid_template_areas": null,
            "object_position": null,
            "object_fit": null,
            "grid_auto_columns": null,
            "margin": null,
            "display": null,
            "left": null
          }
        },
        "db8ce4a0babd47d7b4454bd8de1f223a": {
          "model_module": "@jupyter-widgets/base",
          "model_name": "LayoutModel",
          "state": {
            "_view_name": "LayoutView",
            "grid_template_rows": null,
            "right": null,
            "justify_content": null,
            "_view_module": "@jupyter-widgets/base",
            "overflow": null,
            "_model_module_version": "1.2.0",
            "_view_count": null,
            "flex_flow": null,
            "width": null,
            "min_width": null,
            "border": null,
            "align_items": null,
            "bottom": null,
            "_model_module": "@jupyter-widgets/base",
            "top": null,
            "grid_column": null,
            "overflow_y": null,
            "overflow_x": null,
            "grid_auto_flow": null,
            "grid_area": null,
            "grid_template_columns": null,
            "flex": null,
            "_model_name": "LayoutModel",
            "justify_items": null,
            "grid_row": null,
            "max_height": null,
            "align_content": null,
            "visibility": null,
            "align_self": null,
            "height": null,
            "min_height": null,
            "padding": null,
            "grid_auto_rows": null,
            "grid_gap": null,
            "max_width": null,
            "order": null,
            "_view_module_version": "1.2.0",
            "grid_template_areas": null,
            "object_position": null,
            "object_fit": null,
            "grid_auto_columns": null,
            "margin": null,
            "display": null,
            "left": null
          }
        },
        "b3a10d03575343c1ba368578c5c501f1": {
          "model_module": "@jupyter-widgets/controls",
          "model_name": "VBoxModel",
          "state": {
            "_view_name": "VBoxView",
            "_dom_classes": [
              "widget-interact"
            ],
            "_model_name": "VBoxModel",
            "_view_module": "@jupyter-widgets/controls",
            "_model_module_version": "1.5.0",
            "_view_count": null,
            "_view_module_version": "1.5.0",
            "box_style": "",
            "layout": "IPY_MODEL_ab6478b457044ff397e3034890a1098f",
            "_model_module": "@jupyter-widgets/controls",
            "children": [
              "IPY_MODEL_566dadc6363b43b7aa7f9f56b098e498",
              "IPY_MODEL_137e331777a14b489f81fca0e55acc36"
            ]
          }
        },
        "ab6478b457044ff397e3034890a1098f": {
          "model_module": "@jupyter-widgets/base",
          "model_name": "LayoutModel",
          "state": {
            "_view_name": "LayoutView",
            "grid_template_rows": null,
            "right": null,
            "justify_content": null,
            "_view_module": "@jupyter-widgets/base",
            "overflow": null,
            "_model_module_version": "1.2.0",
            "_view_count": null,
            "flex_flow": null,
            "width": null,
            "min_width": null,
            "border": null,
            "align_items": null,
            "bottom": null,
            "_model_module": "@jupyter-widgets/base",
            "top": null,
            "grid_column": null,
            "overflow_y": null,
            "overflow_x": null,
            "grid_auto_flow": null,
            "grid_area": null,
            "grid_template_columns": null,
            "flex": null,
            "_model_name": "LayoutModel",
            "justify_items": null,
            "grid_row": null,
            "max_height": null,
            "align_content": null,
            "visibility": null,
            "align_self": null,
            "height": null,
            "min_height": null,
            "padding": null,
            "grid_auto_rows": null,
            "grid_gap": null,
            "max_width": null,
            "order": null,
            "_view_module_version": "1.2.0",
            "grid_template_areas": null,
            "object_position": null,
            "object_fit": null,
            "grid_auto_columns": null,
            "margin": null,
            "display": null,
            "left": null
          }
        },
        "566dadc6363b43b7aa7f9f56b098e498": {
          "model_module": "@jupyter-widgets/controls",
          "model_name": "IntSliderModel",
          "state": {
            "_view_name": "IntSliderView",
            "style": "IPY_MODEL_7b7afd66b9244ee0bf620c6430821754",
            "_dom_classes": [],
            "description": "idx",
            "step": 1,
            "_model_name": "IntSliderModel",
            "orientation": "horizontal",
            "max": 10000,
            "_view_module": "@jupyter-widgets/controls",
            "_model_module_version": "1.5.0",
            "value": 6855,
            "_view_count": null,
            "disabled": false,
            "_view_module_version": "1.5.0",
            "min": 0,
            "continuous_update": true,
            "readout_format": "d",
            "description_tooltip": null,
            "readout": true,
            "_model_module": "@jupyter-widgets/controls",
            "layout": "IPY_MODEL_a33aefef499a468ab78a199c6aaab358"
          }
        },
        "137e331777a14b489f81fca0e55acc36": {
          "model_module": "@jupyter-widgets/output",
          "model_name": "OutputModel",
          "state": {
            "_view_name": "OutputView",
            "msg_id": "",
            "_dom_classes": [],
            "_model_name": "OutputModel",
            "outputs": [
              {
                "output_type": "display_data",
                "metadata": {
                  "tags": [],
                  "needs_background": "light"
                },
                "image/png": "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\n",
                "text/plain": "<Figure size 432x288 with 1 Axes>"
              }
            ],
            "_view_module": "@jupyter-widgets/output",
            "_model_module_version": "1.0.0",
            "_view_count": null,
            "_view_module_version": "1.0.0",
            "layout": "IPY_MODEL_6b1ca8d13bae45188a0bc90731b13cb6",
            "_model_module": "@jupyter-widgets/output"
          }
        },
        "7b7afd66b9244ee0bf620c6430821754": {
          "model_module": "@jupyter-widgets/controls",
          "model_name": "SliderStyleModel",
          "state": {
            "_view_name": "StyleView",
            "handle_color": null,
            "_model_name": "SliderStyleModel",
            "description_width": "",
            "_view_module": "@jupyter-widgets/base",
            "_model_module_version": "1.5.0",
            "_view_count": null,
            "_view_module_version": "1.2.0",
            "_model_module": "@jupyter-widgets/controls"
          }
        },
        "a33aefef499a468ab78a199c6aaab358": {
          "model_module": "@jupyter-widgets/base",
          "model_name": "LayoutModel",
          "state": {
            "_view_name": "LayoutView",
            "grid_template_rows": null,
            "right": null,
            "justify_content": null,
            "_view_module": "@jupyter-widgets/base",
            "overflow": null,
            "_model_module_version": "1.2.0",
            "_view_count": null,
            "flex_flow": null,
            "width": null,
            "min_width": null,
            "border": null,
            "align_items": null,
            "bottom": null,
            "_model_module": "@jupyter-widgets/base",
            "top": null,
            "grid_column": null,
            "overflow_y": null,
            "overflow_x": null,
            "grid_auto_flow": null,
            "grid_area": null,
            "grid_template_columns": null,
            "flex": null,
            "_model_name": "LayoutModel",
            "justify_items": null,
            "grid_row": null,
            "max_height": null,
            "align_content": null,
            "visibility": null,
            "align_self": null,
            "height": null,
            "min_height": null,
            "padding": null,
            "grid_auto_rows": null,
            "grid_gap": null,
            "max_width": null,
            "order": null,
            "_view_module_version": "1.2.0",
            "grid_template_areas": null,
            "object_position": null,
            "object_fit": null,
            "grid_auto_columns": null,
            "margin": null,
            "display": null,
            "left": null
          }
        },
        "6b1ca8d13bae45188a0bc90731b13cb6": {
          "model_module": "@jupyter-widgets/base",
          "model_name": "LayoutModel",
          "state": {
            "_view_name": "LayoutView",
            "grid_template_rows": null,
            "right": null,
            "justify_content": null,
            "_view_module": "@jupyter-widgets/base",
            "overflow": null,
            "_model_module_version": "1.2.0",
            "_view_count": null,
            "flex_flow": null,
            "width": null,
            "min_width": null,
            "border": null,
            "align_items": null,
            "bottom": null,
            "_model_module": "@jupyter-widgets/base",
            "top": null,
            "grid_column": null,
            "overflow_y": null,
            "overflow_x": null,
            "grid_auto_flow": null,
            "grid_area": null,
            "grid_template_columns": null,
            "flex": null,
            "_model_name": "LayoutModel",
            "justify_items": null,
            "grid_row": null,
            "max_height": null,
            "align_content": null,
            "visibility": null,
            "align_self": null,
            "height": null,
            "min_height": null,
            "padding": null,
            "grid_auto_rows": null,
            "grid_gap": null,
            "max_width": null,
            "order": null,
            "_view_module_version": "1.2.0",
            "grid_template_areas": null,
            "object_position": null,
            "object_fit": null,
            "grid_auto_columns": null,
            "margin": null,
            "display": null,
            "left": null
          }
        }
      }
    }
  },
  "cells": [
    {
      "cell_type": "markdown",
      "metadata": {
        "id": "view-in-github",
        "colab_type": "text"
      },
      "source": [
        "<a href=\"https://colab.research.google.com/github/choimin1243/Furniture_Shop/blob/master/mnist.ipynb\" target=\"_parent\"><img src=\"https://colab.research.google.com/assets/colab-badge.svg\" alt=\"Open In Colab\"/></a>"
      ]
    },
    {
      "cell_type": "code",
      "metadata": {
        "id": "1QBlj6DGu51Z",
        "colab_type": "code",
        "colab": {
          "base_uri": "https://localhost:8080/",
          "height": 213
        },
        "outputId": "ba3a8450-f1bc-4227-fc93-18cc6ac67247"
      },
      "source": [
        "!pip install git+https://github.com/nockchun/rspy --force"
      ],
      "execution_count": 1,
      "outputs": [
        {
          "output_type": "stream",
          "text": [
            "Collecting git+https://github.com/nockchun/rspy\n",
            "  Cloning https://github.com/nockchun/rspy to /tmp/pip-req-build-v0lwgdps\n",
            "  Running command git clone -q https://github.com/nockchun/rspy /tmp/pip-req-build-v0lwgdps\n",
            "Building wheels for collected packages: rspy\n",
            "  Building wheel for rspy (setup.py) ... \u001b[?25l\u001b[?25hdone\n",
            "  Created wheel for rspy: filename=rspy-0.1.0-cp36-none-any.whl size=10243 sha256=ac9fddc0e29d7d03335d849ec8801b3efe5386e0b0b8fc5d2174b6eb0010d6dc\n",
            "  Stored in directory: /tmp/pip-ephem-wheel-cache-xcgzspke/wheels/b4/9d/4f/d9a80b63c66d03e0f31dd1da9ffae9f32ba6b4e0d421dc9499\n",
            "Successfully built rspy\n",
            "Installing collected packages: rspy\n",
            "Successfully installed rspy-0.1.0\n"
          ],
          "name": "stdout"
        }
      ]
    },
    {
      "cell_type": "code",
      "metadata": {
        "id": "8QV7hAafu8YZ",
        "colab_type": "code",
        "colab": {}
      },
      "source": [
        "import rspy as rsp\n",
        "rsp.setSystemWarning(off=True)\n"
      ],
      "execution_count": 0,
      "outputs": []
    },
    {
      "cell_type": "code",
      "metadata": {
        "id": "-rYXx8sGu_x3",
        "colab_type": "code",
        "colab": {}
      },
      "source": [
        "import numpy as np\n",
        "import matplotlib.pyplot as plt\n",
        "\n",
        "import pandas as pd\n",
        "import seaborn as sns\n",
        "from ipywidgets import interact\n",
        "import tensorflow as tf\n",
        "from tensorflow.keras import utils, layers, models, losses\n"
      ],
      "execution_count": 0,
      "outputs": []
    },
    {
      "cell_type": "code",
      "metadata": {
        "id": "yBHJZb_1vCM_",
        "colab_type": "code",
        "colab": {
          "base_uri": "https://localhost:8080/",
          "height": 70
        },
        "outputId": "212546a6-26dc-41c5-9443-d0bb32c30903"
      },
      "source": [
        "(trainDatas, trainLabels), (testDatas, testLabels) = tf.keras.datasets.mnist.load_data()\n",
        "trainDatas.shape, trainLabels.shape, testDatas.shape, testLabels.shape\n"
      ],
      "execution_count": 5,
      "outputs": [
        {
          "output_type": "stream",
          "text": [
            "Downloading data from https://storage.googleapis.com/tensorflow/tf-keras-datasets/mnist.npz\n",
            "11493376/11490434 [==============================] - 0s 0us/step\n"
          ],
          "name": "stdout"
        },
        {
          "output_type": "execute_result",
          "data": {
            "text/plain": [
              "((60000, 28, 28), (60000,), (10000, 28, 28), (10000,))"
            ]
          },
          "metadata": {
            "tags": []
          },
          "execution_count": 5
        }
      ]
    },
    {
      "cell_type": "code",
      "metadata": {
        "id": "JwjsHOWXvEwF",
        "colab_type": "code",
        "colab": {
          "base_uri": "https://localhost:8080/",
          "height": 313,
          "referenced_widgets": [
            "535ee00814aa47d183e945a47dfe8fe4",
            "74fa35c6032f44af9fa7375b7394c545",
            "a9ec37fc94a548379f28553103e9f580",
            "07ea7451da83417fbd7f90d25d48bada",
            "c50ea8ddb11b4bffb0a118e75c71bf4d",
            "5600265251ec4006b0d6ea43aed7a9b6",
            "db8ce4a0babd47d7b4454bd8de1f223a"
          ]
        },
        "outputId": "b2cfd5de-180f-45ad-d10c-a918a59d31f0"
      },
      "source": [
        "@interact(idx=(0, 60000))\n",
        "def showImage(idx):\n",
        "    plt.imshow(trainDatas[idx], cmap=\"gray\")\n",
        "    plt.grid(False)\n",
        "    plt.title(f\"LABEL : {trainLabels[idx]}\")\n",
        "    plt.show()"
      ],
      "execution_count": 6,
      "outputs": [
        {
          "output_type": "display_data",
          "data": {
            "application/vnd.jupyter.widget-view+json": {
              "model_id": "535ee00814aa47d183e945a47dfe8fe4",
              "version_minor": 0,
              "version_major": 2
            },
            "text/plain": [
              "interactive(children=(IntSlider(value=30000, description='idx', max=60000), Output()), _dom_classes=('widget-i…"
            ]
          },
          "metadata": {
            "tags": []
          }
        }
      ]
    },
    {
      "cell_type": "code",
      "metadata": {
        "id": "53gpkJvcvTTh",
        "colab_type": "code",
        "colab": {
          "base_uri": "https://localhost:8080/",
          "height": 1000
        },
        "outputId": "b7b2b86b-f276-452f-8ff2-d3217f64fe73"
      },
      "source": [
        "trainDatas = trainDatas.reshape(-1, 28*28)\n",
        "testDatas = testDatas.reshape(-1, 28*28)\n",
        "\n",
        "trainDatas[0]"
      ],
      "execution_count": 9,
      "outputs": [
        {
          "output_type": "execute_result",
          "data": {
            "text/plain": [
              "array([  0,   0,   0,   0,   0,   0,   0,   0,   0,   0,   0,   0,   0,\n",
              "         0,   0,   0,   0,   0,   0,   0,   0,   0,   0,   0,   0,   0,\n",
              "         0,   0,   0,   0,   0,   0,   0,   0,   0,   0,   0,   0,   0,\n",
              "         0,   0,   0,   0,   0,   0,   0,   0,   0,   0,   0,   0,   0,\n",
              "         0,   0,   0,   0,   0,   0,   0,   0,   0,   0,   0,   0,   0,\n",
              "         0,   0,   0,   0,   0,   0,   0,   0,   0,   0,   0,   0,   0,\n",
              "         0,   0,   0,   0,   0,   0,   0,   0,   0,   0,   0,   0,   0,\n",
              "         0,   0,   0,   0,   0,   0,   0,   0,   0,   0,   0,   0,   0,\n",
              "         0,   0,   0,   0,   0,   0,   0,   0,   0,   0,   0,   0,   0,\n",
              "         0,   0,   0,   0,   0,   0,   0,   0,   0,   0,   0,   0,   0,\n",
              "         0,   0,   0,   0,   0,   0,   0,   0,   0,   0,   0,   0,   0,\n",
              "         0,   0,   0,   0,   0,   0,   0,   0,   0,   3,  18,  18,  18,\n",
              "       126, 136, 175,  26, 166, 255, 247, 127,   0,   0,   0,   0,   0,\n",
              "         0,   0,   0,   0,   0,   0,   0,  30,  36,  94, 154, 170, 253,\n",
              "       253, 253, 253, 253, 225, 172, 253, 242, 195,  64,   0,   0,   0,\n",
              "         0,   0,   0,   0,   0,   0,   0,   0,  49, 238, 253, 253, 253,\n",
              "       253, 253, 253, 253, 253, 251,  93,  82,  82,  56,  39,   0,   0,\n",
              "         0,   0,   0,   0,   0,   0,   0,   0,   0,   0,  18, 219, 253,\n",
              "       253, 253, 253, 253, 198, 182, 247, 241,   0,   0,   0,   0,   0,\n",
              "         0,   0,   0,   0,   0,   0,   0,   0,   0,   0,   0,   0,   0,\n",
              "        80, 156, 107, 253, 253, 205,  11,   0,  43, 154,   0,   0,   0,\n",
              "         0,   0,   0,   0,   0,   0,   0,   0,   0,   0,   0,   0,   0,\n",
              "         0,   0,   0,  14,   1, 154, 253,  90,   0,   0,   0,   0,   0,\n",
              "         0,   0,   0,   0,   0,   0,   0,   0,   0,   0,   0,   0,   0,\n",
              "         0,   0,   0,   0,   0,   0,   0, 139, 253, 190,   2,   0,   0,\n",
              "         0,   0,   0,   0,   0,   0,   0,   0,   0,   0,   0,   0,   0,\n",
              "         0,   0,   0,   0,   0,   0,   0,   0,   0,  11, 190, 253,  70,\n",
              "         0,   0,   0,   0,   0,   0,   0,   0,   0,   0,   0,   0,   0,\n",
              "         0,   0,   0,   0,   0,   0,   0,   0,   0,   0,   0,   0,  35,\n",
              "       241, 225, 160, 108,   1,   0,   0,   0,   0,   0,   0,   0,   0,\n",
              "         0,   0,   0,   0,   0,   0,   0,   0,   0,   0,   0,   0,   0,\n",
              "         0,   0,  81, 240, 253, 253, 119,  25,   0,   0,   0,   0,   0,\n",
              "         0,   0,   0,   0,   0,   0,   0,   0,   0,   0,   0,   0,   0,\n",
              "         0,   0,   0,   0,   0,  45, 186, 253, 253, 150,  27,   0,   0,\n",
              "         0,   0,   0,   0,   0,   0,   0,   0,   0,   0,   0,   0,   0,\n",
              "         0,   0,   0,   0,   0,   0,   0,   0,  16,  93, 252, 253, 187,\n",
              "         0,   0,   0,   0,   0,   0,   0,   0,   0,   0,   0,   0,   0,\n",
              "         0,   0,   0,   0,   0,   0,   0,   0,   0,   0,   0,   0, 249,\n",
              "       253, 249,  64,   0,   0,   0,   0,   0,   0,   0,   0,   0,   0,\n",
              "         0,   0,   0,   0,   0,   0,   0,   0,   0,   0,   0,  46, 130,\n",
              "       183, 253, 253, 207,   2,   0,   0,   0,   0,   0,   0,   0,   0,\n",
              "         0,   0,   0,   0,   0,   0,   0,   0,   0,   0,   0,  39, 148,\n",
              "       229, 253, 253, 253, 250, 182,   0,   0,   0,   0,   0,   0,   0,\n",
              "         0,   0,   0,   0,   0,   0,   0,   0,   0,   0,   0,  24, 114,\n",
              "       221, 253, 253, 253, 253, 201,  78,   0,   0,   0,   0,   0,   0,\n",
              "         0,   0,   0,   0,   0,   0,   0,   0,   0,   0,   0,  23,  66,\n",
              "       213, 253, 253, 253, 253, 198,  81,   2,   0,   0,   0,   0,   0,\n",
              "         0,   0,   0,   0,   0,   0,   0,   0,   0,   0,   0,  18, 171,\n",
              "       219, 253, 253, 253, 253, 195,  80,   9,   0,   0,   0,   0,   0,\n",
              "         0,   0,   0,   0,   0,   0,   0,   0,   0,   0,   0,  55, 172,\n",
              "       226, 253, 253, 253, 253, 244, 133,  11,   0,   0,   0,   0,   0,\n",
              "         0,   0,   0,   0,   0,   0,   0,   0,   0,   0,   0,   0,   0,\n",
              "       136, 253, 253, 253, 212, 135, 132,  16,   0,   0,   0,   0,   0,\n",
              "         0,   0,   0,   0,   0,   0,   0,   0,   0,   0,   0,   0,   0,\n",
              "         0,   0,   0,   0,   0,   0,   0,   0,   0,   0,   0,   0,   0,\n",
              "         0,   0,   0,   0,   0,   0,   0,   0,   0,   0,   0,   0,   0,\n",
              "         0,   0,   0,   0,   0,   0,   0,   0,   0,   0,   0,   0,   0,\n",
              "         0,   0,   0,   0,   0,   0,   0,   0,   0,   0,   0,   0,   0,\n",
              "         0,   0,   0,   0,   0,   0,   0,   0,   0,   0,   0,   0,   0,\n",
              "         0,   0,   0,   0,   0,   0,   0,   0,   0,   0,   0,   0,   0,\n",
              "         0,   0,   0,   0], dtype=uint8)"
            ]
          },
          "metadata": {
            "tags": []
          },
          "execution_count": 9
        }
      ]
    },
    {
      "cell_type": "code",
      "metadata": {
        "id": "MGb_BygpvnvD",
        "colab_type": "code",
        "colab": {
          "base_uri": "https://localhost:8080/",
          "height": 34
        },
        "outputId": "6d687c0f-35bc-44b0-af9b-d2d451f9b93b"
      },
      "source": [
        "trainLabels = np.eye(10)[trainLabels]\n",
        "testLabels  = np.eye(10)[testLabels]\n",
        "\n",
        "trainLabels.shape, trainLabels.shape\n"
      ],
      "execution_count": 10,
      "outputs": [
        {
          "output_type": "execute_result",
          "data": {
            "text/plain": [
              "((60000, 10), (60000, 10))"
            ]
          },
          "metadata": {
            "tags": []
          },
          "execution_count": 10
        }
      ]
    },
    {
      "cell_type": "code",
      "metadata": {
        "id": "kRYzCBdcvrsp",
        "colab_type": "code",
        "colab": {}
      },
      "source": [
        "model = models.Sequential([\n",
        "    layers.Input([784]),\n",
        "    layers.Dense(256, activation=tf.keras.activations.relu),\n",
        "#     layers.Dropout(0.2),\n",
        "    layers.Dense(10, activation=tf.keras.activations.softmax)\n",
        "])"
      ],
      "execution_count": 0,
      "outputs": []
    },
    {
      "cell_type": "code",
      "metadata": {
        "id": "LOi0acefvwrZ",
        "colab_type": "code",
        "colab": {}
      },
      "source": [
        "model.compile(\n",
        "    loss=tf.keras.losses.CategoricalCrossentropy(),\n",
        "    optimizer=tf.keras.optimizers.Adam(learning_rate=0.0001),\n",
        "    metrics = [\"accuracy\"]\n",
        ")\n"
      ],
      "execution_count": 0,
      "outputs": []
    },
    {
      "cell_type": "code",
      "metadata": {
        "id": "iiqKtZq8vyKB",
        "colab_type": "code",
        "colab": {
          "base_uri": "https://localhost:8080/",
          "height": 721
        },
        "outputId": "4fed3f30-70ab-4a2e-9954-c0f93388f28f"
      },
      "source": [
        "history = model.fit(\n",
        "    trainDatas, trainLabels,\n",
        "    batch_size=1000,\n",
        "    epochs=20,\n",
        "    validation_split=0.3\n",
        ")\n"
      ],
      "execution_count": 13,
      "outputs": [
        {
          "output_type": "stream",
          "text": [
            "Epoch 1/20\n",
            "42/42 [==============================] - 1s 23ms/step - loss: 77.5490 - accuracy: 0.2771 - val_loss: 24.2395 - val_accuracy: 0.5390\n",
            "Epoch 2/20\n",
            "42/42 [==============================] - 1s 19ms/step - loss: 16.3638 - accuracy: 0.6566 - val_loss: 11.7190 - val_accuracy: 0.7376\n",
            "Epoch 3/20\n",
            "42/42 [==============================] - 1s 19ms/step - loss: 9.7643 - accuracy: 0.7715 - val_loss: 8.5172 - val_accuracy: 0.7959\n",
            "Epoch 4/20\n",
            "42/42 [==============================] - 1s 19ms/step - loss: 7.4150 - accuracy: 0.8173 - val_loss: 6.9722 - val_accuracy: 0.8263\n",
            "Epoch 5/20\n",
            "42/42 [==============================] - 1s 19ms/step - loss: 6.0640 - accuracy: 0.8438 - val_loss: 6.0218 - val_accuracy: 0.8451\n",
            "Epoch 6/20\n",
            "42/42 [==============================] - 1s 19ms/step - loss: 5.1402 - accuracy: 0.8616 - val_loss: 5.3088 - val_accuracy: 0.8592\n",
            "Epoch 7/20\n",
            "42/42 [==============================] - 1s 19ms/step - loss: 4.4736 - accuracy: 0.8752 - val_loss: 4.8418 - val_accuracy: 0.8692\n",
            "Epoch 8/20\n",
            "42/42 [==============================] - 1s 20ms/step - loss: 3.9335 - accuracy: 0.8866 - val_loss: 4.4641 - val_accuracy: 0.8760\n",
            "Epoch 9/20\n",
            "42/42 [==============================] - 1s 18ms/step - loss: 3.5186 - accuracy: 0.8940 - val_loss: 4.1710 - val_accuracy: 0.8828\n",
            "Epoch 10/20\n",
            "42/42 [==============================] - 1s 19ms/step - loss: 3.1836 - accuracy: 0.9014 - val_loss: 3.9020 - val_accuracy: 0.8870\n",
            "Epoch 11/20\n",
            "42/42 [==============================] - 1s 19ms/step - loss: 2.8759 - accuracy: 0.9077 - val_loss: 3.6799 - val_accuracy: 0.8903\n",
            "Epoch 12/20\n",
            "42/42 [==============================] - 1s 19ms/step - loss: 2.6189 - accuracy: 0.9126 - val_loss: 3.5154 - val_accuracy: 0.8927\n",
            "Epoch 13/20\n",
            "42/42 [==============================] - 1s 19ms/step - loss: 2.3816 - accuracy: 0.9179 - val_loss: 3.3495 - val_accuracy: 0.8974\n",
            "Epoch 14/20\n",
            "42/42 [==============================] - 1s 19ms/step - loss: 2.1796 - accuracy: 0.9230 - val_loss: 3.2151 - val_accuracy: 0.9004\n",
            "Epoch 15/20\n",
            "42/42 [==============================] - 1s 19ms/step - loss: 2.0015 - accuracy: 0.9270 - val_loss: 3.0905 - val_accuracy: 0.9041\n",
            "Epoch 16/20\n",
            "42/42 [==============================] - 1s 20ms/step - loss: 1.8378 - accuracy: 0.9297 - val_loss: 2.9896 - val_accuracy: 0.9051\n",
            "Epoch 17/20\n",
            "42/42 [==============================] - 1s 19ms/step - loss: 1.6914 - accuracy: 0.9342 - val_loss: 2.9003 - val_accuracy: 0.9083\n",
            "Epoch 18/20\n",
            "42/42 [==============================] - 1s 19ms/step - loss: 1.5685 - accuracy: 0.9373 - val_loss: 2.8012 - val_accuracy: 0.9108\n",
            "Epoch 19/20\n",
            "42/42 [==============================] - 1s 19ms/step - loss: 1.4499 - accuracy: 0.9400 - val_loss: 2.7496 - val_accuracy: 0.9098\n",
            "Epoch 20/20\n",
            "42/42 [==============================] - 1s 19ms/step - loss: 1.3515 - accuracy: 0.9423 - val_loss: 2.6589 - val_accuracy: 0.9128\n"
          ],
          "name": "stdout"
        }
      ]
    },
    {
      "cell_type": "code",
      "metadata": {
        "id": "CuWkzPEJwrCw",
        "colab_type": "code",
        "colab": {
          "base_uri": "https://localhost:8080/",
          "height": 34
        },
        "outputId": "b1962dd2-551c-42a5-efaa-8f552aa34d4c"
      },
      "source": [
        "evaLoss,evaAcc=model.evaluate(testDatas,testLabels,verbose=0)\n",
        "print(evaAcc)"
      ],
      "execution_count": 14,
      "outputs": [
        {
          "output_type": "stream",
          "text": [
            "0.9164000153541565\n"
          ],
          "name": "stdout"
        }
      ]
    },
    {
      "cell_type": "code",
      "metadata": {
        "id": "wWNYGt0txPiZ",
        "colab_type": "code",
        "colab": {
          "base_uri": "https://localhost:8080/",
          "height": 313,
          "referenced_widgets": [
            "b3a10d03575343c1ba368578c5c501f1",
            "ab6478b457044ff397e3034890a1098f",
            "566dadc6363b43b7aa7f9f56b098e498",
            "137e331777a14b489f81fca0e55acc36",
            "7b7afd66b9244ee0bf620c6430821754",
            "a33aefef499a468ab78a199c6aaab358",
            "6b1ca8d13bae45188a0bc90731b13cb6"
          ]
        },
        "outputId": "e63ac31a-d252-44df-b506-5f2dc0398483"
      },
      "source": [
        "@interact(idx=(0, 10000))\n",
        "def showTestImage(idx):\n",
        "    data = testDatas[idx].reshape(-1, 784)\n",
        "    dataPred = model.predict(data)\n",
        "    plt.imshow(testDatas[idx].reshape(28,28), cmap=\"gray\")\n",
        "    # plt.grid(False)\n",
        "    plt.title(f\"LABEL: {np.argmax(testLabels[idx])}, PREDICT: {np.argmax(dataPred)}\")\n",
        "    plt.show()\n"
      ],
      "execution_count": 20,
      "outputs": [
        {
          "output_type": "display_data",
          "data": {
            "application/vnd.jupyter.widget-view+json": {
              "model_id": "b3a10d03575343c1ba368578c5c501f1",
              "version_minor": 0,
              "version_major": 2
            },
            "text/plain": [
              "interactive(children=(IntSlider(value=5000, description='idx', max=10000), Output()), _dom_classes=('widget-in…"
            ]
          },
          "metadata": {
            "tags": []
          }
        }
      ]
    }
  ]
}